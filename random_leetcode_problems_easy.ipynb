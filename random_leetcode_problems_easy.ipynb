{
 "cells": [
  {
   "cell_type": "markdown",
   "metadata": {},
   "source": [
    "# Random LeetCode Questions (Easy)"
   ]
  },
  {
   "cell_type": "markdown",
   "metadata": {},
   "source": [
    "<a name ='top'></a>\n",
    "\n",
    "[1. TwoSum](#1)<br />\n",
    "[2. Reverse Integer](#2)<br />\n",
    "[3. Subsets II](#3)<br />\n",
    "[4. Palindrome Number](#4)<br />\n",
    "[5. Roman to Integer](#5)<br />\n",
    "[6. Merge Two Sorted Lists](#6)<br />\n",
    "[7. Remove Duplicates from Sorted Array](#7)<br />\n",
    "[8. Search Insert Position](#8)<br />\n",
    "[9. Maximum Subarray](#9)<br />\n",
    "[10. Climbing Stairs](#10)<br />"
   ]
  },
  {
   "cell_type": "markdown",
   "metadata": {},
   "source": [
    "<a name = '1'></a>\n",
    "\n",
    "## 1. TwoSum\n",
    "\n",
    "[Back to Top](#top)\n",
    "\n",
    "Given an array of integers nums and an integer target, return indices of the two numbers such that they add up to target.\n",
    "\n",
    "You may assume that each input would have exactly one solution, and you may not use the same element twice.\n",
    "\n",
    "You can return the answer in any order."
   ]
  },
  {
   "cell_type": "code",
   "execution_count": 1,
   "metadata": {},
   "outputs": [],
   "source": [
    "def twoSum(nums, target):\n",
    "    i = 0 \n",
    "    while i < len(nums) - 1:\n",
    "        j = i + 1\n",
    "        while j < len(nums):\n",
    "            if nums[i] + nums[j] == target:\n",
    "                return i, j\n",
    "            j+=1\n",
    "        i+=1"
   ]
  },
  {
   "cell_type": "code",
   "execution_count": 2,
   "metadata": {},
   "outputs": [
    {
     "data": {
      "text/plain": [
       "(0, 2)"
      ]
     },
     "execution_count": 2,
     "metadata": {},
     "output_type": "execute_result"
    }
   ],
   "source": [
    "twoSum([3,2,3], 6)"
   ]
  },
  {
   "cell_type": "code",
   "execution_count": null,
   "metadata": {},
   "outputs": [],
   "source": []
  },
  {
   "cell_type": "markdown",
   "metadata": {},
   "source": [
    "<a name = '2'></a>\n",
    "## 2. Reverse Integer\n",
    "[Back to Top](#top)\n",
    "\n",
    "Given a signed 32-bit integer x, return x with its digits reversed. If reversing x causes the value to go outside the signed 32-bit integer range [-231, 231 - 1], then return 0."
   ]
  },
  {
   "cell_type": "code",
   "execution_count": 3,
   "metadata": {},
   "outputs": [],
   "source": [
    "def reverse(x):\n",
    "    \n",
    "    signed = 0\n",
    "    return_num = 0\n",
    "    \n",
    "    if x < 0:\n",
    "        signed = 1\n",
    "        x = x * -1\n",
    "        \n",
    "    while x > 0:\n",
    "        return_num = (return_num*10) + (x % 10)\n",
    "        x = x // 10\n",
    "        \n",
    "    if signed == 1:\n",
    "        return_num = return_num * -1\n",
    "        \n",
    "    if return_num < (-2**31) or return_num > (2**31 - 1):\n",
    "        return 0\n",
    "        \n",
    "    return return_num"
   ]
  },
  {
   "cell_type": "code",
   "execution_count": 4,
   "metadata": {},
   "outputs": [
    {
     "data": {
      "text/plain": [
       "-321"
      ]
     },
     "execution_count": 4,
     "metadata": {},
     "output_type": "execute_result"
    }
   ],
   "source": [
    "reverse(1534236469)\n",
    "reverse(-123)"
   ]
  },
  {
   "cell_type": "code",
   "execution_count": null,
   "metadata": {},
   "outputs": [],
   "source": []
  },
  {
   "cell_type": "markdown",
   "metadata": {},
   "source": [
    "<a name = '3'></a>\n",
    "## 3. Subsets II\n",
    "[Back to Top](#top)"
   ]
  },
  {
   "cell_type": "markdown",
   "metadata": {},
   "source": [
    "Given an integer array nums that may contain duplicates, return all possible subsets (the power set).\n",
    "\n",
    "The solution set must not contain duplicate subsets. Return the solution in any order."
   ]
  },
  {
   "cell_type": "code",
   "execution_count": 5,
   "metadata": {},
   "outputs": [],
   "source": [
    "def subset(nums):\n",
    "    nums = sorted(nums)\n",
    "    ans_set = set()\n",
    "    \n",
    "    ans_set.add(tuple())\n",
    "    \n",
    "    for num in nums:\n",
    "        add_num = set()\n",
    "        for subset in ans_set:\n",
    "            add_num.add(tuple(list(subset) + [num]))\n",
    "        ans_set.update(add_num)\n",
    "        \n",
    "    return_list = []\n",
    "    \n",
    "    for num_set in ans_set:\n",
    "        if type(num_set) == int:\n",
    "            return_list.append([num_set])\n",
    "        else:\n",
    "            return_list.append(list(num_set))\n",
    "        \n",
    "    return sorted(return_list)"
   ]
  },
  {
   "cell_type": "code",
   "execution_count": 6,
   "metadata": {},
   "outputs": [
    {
     "data": {
      "text/plain": [
       "[[], [1], [1, 2], [1, 2, 3], [1, 3], [2], [2, 3], [3]]"
      ]
     },
     "execution_count": 6,
     "metadata": {},
     "output_type": "execute_result"
    }
   ],
   "source": [
    "subset([1,2,3])"
   ]
  },
  {
   "cell_type": "code",
   "execution_count": null,
   "metadata": {},
   "outputs": [],
   "source": []
  },
  {
   "cell_type": "markdown",
   "metadata": {},
   "source": [
    "<a name = '4'></a>\n",
    "\n",
    "## 4. Palindrome Number\n",
    "\n",
    "[Back to Top](#top)"
   ]
  },
  {
   "cell_type": "markdown",
   "metadata": {},
   "source": [
    "Given an integer x, return true if x is palindrome integer.\n",
    "\n",
    "An integer is a palindrome when it reads the same backward as forward. For example, 121 is palindrome while 123 is not."
   ]
  },
  {
   "cell_type": "code",
   "execution_count": 7,
   "metadata": {},
   "outputs": [],
   "source": [
    "def isPalindrome(x):\n",
    "    x = [num for num in str(x)]\n",
    "    i = 0\n",
    "    print(x)\n",
    "    \n",
    "    while i < len(x)//2:\n",
    "        if x[i] == x[-i-1]:\n",
    "            pass\n",
    "        else:\n",
    "            return False\n",
    "        i+=1\n",
    "    \n",
    "    return True"
   ]
  },
  {
   "cell_type": "code",
   "execution_count": 8,
   "metadata": {},
   "outputs": [
    {
     "name": "stdout",
     "output_type": "stream",
     "text": [
      "['-', '1', '2', '1']\n",
      "['1', '2', '2', '1']\n"
     ]
    },
    {
     "data": {
      "text/plain": [
       "True"
      ]
     },
     "execution_count": 8,
     "metadata": {},
     "output_type": "execute_result"
    }
   ],
   "source": [
    "isPalindrome(-121)\n",
    "isPalindrome(1221)"
   ]
  },
  {
   "cell_type": "code",
   "execution_count": null,
   "metadata": {},
   "outputs": [],
   "source": []
  },
  {
   "cell_type": "markdown",
   "metadata": {},
   "source": [
    "<a name = '5'></a>\n",
    "\n",
    "## 5. Roman to Integer\n",
    "\n",
    "[Back to Top](#top)"
   ]
  },
  {
   "cell_type": "markdown",
   "metadata": {},
   "source": [
    "Roman numerals are represented by seven different symbols: I, V, X, L, C, D and M.\n",
    "\n",
    "Symbol       Value\n",
    "I             1\n",
    "V             5\n",
    "X             10\n",
    "L             50\n",
    "C             100\n",
    "D             500\n",
    "M             1000\n",
    "For example, 2 is written as II in Roman numeral, just two one's added together. 12 is written as XII, which is simply X + II. The number 27 is written as XXVII, which is XX + V + II.\n",
    "\n",
    "Roman numerals are usually written largest to smallest from left to right. However, the numeral for four is not IIII. Instead, the number four is written as IV. Because the one is before the five we subtract it making four. The same principle applies to the number nine, which is written as IX. There are six instances where subtraction is used:\n",
    "\n",
    "I can be placed before V (5) and X (10) to make 4 and 9. \n",
    "X can be placed before L (50) and C (100) to make 40 and 90. \n",
    "C can be placed before D (500) and M (1000) to make 400 and 900.\n",
    "Given a roman numeral, convert it to an integer."
   ]
  },
  {
   "cell_type": "code",
   "execution_count": 9,
   "metadata": {},
   "outputs": [],
   "source": [
    "def romanToInt(s):\n",
    "    i=0\n",
    "    return_num = 0\n",
    "    s = s.upper()\n",
    "    \n",
    "    add_dict = {'I':1, \n",
    "                'V':5, \n",
    "                'X':10, \n",
    "                'L':50, \n",
    "                'C':100, \n",
    "                'D':500, \n",
    "                'M':1000}\n",
    "    \n",
    "    sub_dict = {'IV':-1, \n",
    "                'IX':-1, \n",
    "                'XL':-10, \n",
    "                'XC':-10, \n",
    "                'CD':-100, \n",
    "                'CM':-100}\n",
    "    \n",
    "    for rom_num in s:\n",
    "        if rom_num in add_dict:\n",
    "            return_num+=add_dict[rom_num]\n",
    "            \n",
    "    while i < len(s):\n",
    "        if s[i:i+2] in sub_dict:\n",
    "            return_num+=(sub_dict[s[i:i+2]] * 2)\n",
    "        i+=1\n",
    "            \n",
    "    return return_num"
   ]
  },
  {
   "cell_type": "code",
   "execution_count": 10,
   "metadata": {},
   "outputs": [
    {
     "data": {
      "text/plain": [
       "1994"
      ]
     },
     "execution_count": 10,
     "metadata": {},
     "output_type": "execute_result"
    }
   ],
   "source": [
    "romanToInt('IV')\n",
    "romanToInt('MCMXCIV')"
   ]
  },
  {
   "cell_type": "code",
   "execution_count": null,
   "metadata": {},
   "outputs": [],
   "source": []
  },
  {
   "cell_type": "markdown",
   "metadata": {},
   "source": [
    "<a name = '6'></a>\n",
    "\n",
    "## 6. Merge Two Sorted Lists\n",
    "\n",
    "[Back to Top](#top)\n"
   ]
  },
  {
   "cell_type": "markdown",
   "metadata": {},
   "source": [
    "Merge two sorted linked lists and return it as a sorted list. The list should be made by splicing together the nodes of the first two lists.\n",
    "\n",
    "Constraints:\n",
    "\n",
    "The number of nodes in both lists is in the range [0, 50].\n",
    "-100 <= Node.val <= 100\n",
    "Both l1 and l2 are sorted in non-decreasing order."
   ]
  },
  {
   "cell_type": "code",
   "execution_count": 11,
   "metadata": {},
   "outputs": [],
   "source": [
    "# Definition for singly-linked list.\n",
    "class ListNode:\n",
    "    def __init__(self, val=0, next=None):\n",
    "        self.val = val\n",
    "        self.next = next\n",
    "\n",
    "def mergeTwoLists(l1, l2):\n",
    "    sorted_list = ListNode()\n",
    "    return_list = sorted_list\n",
    "\n",
    "    while l1 and l2:\n",
    "        if l1.val < l2.val:\n",
    "            return_list.next = l1\n",
    "            l1 = l1.next\n",
    "        else:\n",
    "            return_list.next = l2\n",
    "            l2 = l2.next\n",
    "            \n",
    "        return_list = return_list.next\n",
    "\n",
    "    if l1:\n",
    "        return_list.next = l1\n",
    "        l1=l1.next\n",
    "    elif l2:\n",
    "        return_list.next = l2\n",
    "        l2 = l2.next\n",
    "\n",
    "    return sorted_list.next\n",
    "        \n",
    "    "
   ]
  },
  {
   "cell_type": "code",
   "execution_count": 12,
   "metadata": {},
   "outputs": [],
   "source": [
    "# Definition for singly-linked list.\n",
    "# class ListNode:\n",
    "#     def __init__(self, val=0, next=None):\n",
    "#         self.val = val\n",
    "#         self.next = next\n",
    "class Solution:\n",
    "    def mergeTwoLists(self, l1: ListNode, l2: ListNode) -> ListNode:\n",
    "        \n",
    "        sorted_list = ListNode()\n",
    "        cur = sorted_list\n",
    "        \n",
    "        while l1 and l2:\n",
    "        \n",
    "            if l1.val < l2.val:\n",
    "                cur.next = l1\n",
    "                l1 = l1.next\n",
    "            else:\n",
    "                cur.next = l2\n",
    "                l2 = l2.next\n",
    "                \n",
    "            cur = cur.next\n",
    "                \n",
    "        if l1:\n",
    "            cur.next = l1\n",
    "            l1 = l1.next\n",
    "        \n",
    "        elif l2:\n",
    "            cur.next =l2\n",
    "            l2 = l2.next\n",
    "            \n",
    "        return sorted_list.next"
   ]
  },
  {
   "cell_type": "code",
   "execution_count": null,
   "metadata": {},
   "outputs": [],
   "source": []
  },
  {
   "cell_type": "markdown",
   "metadata": {},
   "source": [
    "<a name = '7'></a>\n",
    "\n",
    "## 7. Remove Duplicates from Sorted Array\n",
    "\n",
    "[Back to Top](#top)\n"
   ]
  },
  {
   "cell_type": "markdown",
   "metadata": {},
   "source": [
    "Given an integer array nums sorted in non-decreasing order, remove the duplicates in-place such that each unique element appears only once. The relative order of the elements should be kept the same.\n",
    "\n",
    "Since it is impossible to change the length of the array in some languages, you must instead have the result be placed in the first part of the array nums. More formally, if there are k elements after removing the duplicates, then the first k elements of nums should hold the final result. It does not matter what you leave beyond the first k elements.\n",
    "\n",
    "Return k after placing the final result in the first k slots of nums.\n",
    "\n",
    "Do not allocate extra space for another array. You must do this by modifying the input array in-place with O(1) extra memory.\n",
    "\n",
    "Constraints:\n",
    "0 <= nums.length <= 3 * 104\n",
    "-100 <= nums[i] <= 100\n",
    "nums is sorted in non-decreasing order."
   ]
  },
  {
   "cell_type": "code",
   "execution_count": 13,
   "metadata": {},
   "outputs": [],
   "source": [
    "def removeDuplicates(nums):\n",
    "    \n",
    "    i=0\n",
    "    j=1\n",
    "    \n",
    "    while i < len(nums) - 1:\n",
    "        \n",
    "        if nums[i] == nums[i+1]:\n",
    "            pass\n",
    "        else:\n",
    "            nums[j] = nums[i+1]\n",
    "            j+=1\n",
    "        i+=1\n",
    "        \n",
    "    print(nums)\n",
    "    return j\n",
    "    "
   ]
  },
  {
   "cell_type": "code",
   "execution_count": 14,
   "metadata": {},
   "outputs": [
    {
     "name": "stdout",
     "output_type": "stream",
     "text": [
      "[0, 1, 2, 3, 4, 2, 2, 3, 3, 4]\n"
     ]
    },
    {
     "data": {
      "text/plain": [
       "5"
      ]
     },
     "execution_count": 14,
     "metadata": {},
     "output_type": "execute_result"
    }
   ],
   "source": [
    "nums = [0,0,1,1,1,2,2,3,3,4]\n",
    "\n",
    "removeDuplicates(nums)"
   ]
  },
  {
   "cell_type": "code",
   "execution_count": null,
   "metadata": {},
   "outputs": [],
   "source": []
  },
  {
   "cell_type": "markdown",
   "metadata": {},
   "source": [
    "<a name = '8'></a>\n",
    "\n",
    "## 8. Search Insert Position\n",
    "\n",
    "[Back to Top](#top)\n",
    "\n"
   ]
  },
  {
   "cell_type": "markdown",
   "metadata": {},
   "source": [
    "Given a sorted array of distinct integers and a target value, return the index if the target is found. If not, return the index where it would be if it were inserted in order.\n",
    "\n",
    "You must write an algorithm with O(log n) runtime complexity."
   ]
  },
  {
   "cell_type": "code",
   "execution_count": 15,
   "metadata": {},
   "outputs": [],
   "source": [
    "def searchInsert(nums, target):\n",
    "    \n",
    "    low = 0\n",
    "    high = len(nums) - 1\n",
    "    \n",
    "    if high == 0:\n",
    "        if nums[0] >= target:\n",
    "            return 0\n",
    "        else:\n",
    "            return 1\n",
    "    \n",
    "    while high >= low:\n",
    "        \n",
    "        mid = (high + low) // 2\n",
    "        \n",
    "        if nums[mid] > target:\n",
    "            high = mid - 1\n",
    "            \n",
    "        elif nums[mid] < target:\n",
    "            low = mid + 1\n",
    "            \n",
    "        else:\n",
    "            return mid\n",
    "        \n",
    "    return high + 1\n"
   ]
  },
  {
   "cell_type": "code",
   "execution_count": 16,
   "metadata": {},
   "outputs": [
    {
     "data": {
      "text/plain": [
       "4"
      ]
     },
     "execution_count": 16,
     "metadata": {},
     "output_type": "execute_result"
    }
   ],
   "source": [
    "nums = [1,3,5,6] \n",
    "target = 5\n",
    "target = 7\n",
    "\n",
    "searchInsert(nums, target)"
   ]
  },
  {
   "cell_type": "code",
   "execution_count": null,
   "metadata": {},
   "outputs": [],
   "source": []
  },
  {
   "cell_type": "markdown",
   "metadata": {},
   "source": [
    "<a name = '9'></a>\n",
    "\n",
    "## 9. Maximum Subarray\n",
    "\n",
    "[Back to Top](#top)\n"
   ]
  },
  {
   "cell_type": "markdown",
   "metadata": {},
   "source": [
    "Given an integer array nums, find the contiguous subarray (containing at least one number) which has the largest sum and return its sum.\n",
    "\n",
    "A subarray is a contiguous part of an array."
   ]
  },
  {
   "cell_type": "code",
   "execution_count": 17,
   "metadata": {},
   "outputs": [],
   "source": [
    "def maxSubArray(nums):\n",
    "    \n",
    "    cur_total = 0\n",
    "    ret_sum = nums[0]\n",
    "    \n",
    "    for num in nums:\n",
    "        \n",
    "        if cur_total >= 0:\n",
    "            cur_total += num\n",
    "        else:\n",
    "            cur_total = 0\n",
    "            cur_total += num\n",
    "            \n",
    "        if ret_sum > cur_total:\n",
    "            pass\n",
    "        else:\n",
    "            ret_sum = cur_total\n",
    "            \n",
    "    return ret_sum"
   ]
  },
  {
   "cell_type": "code",
   "execution_count": 18,
   "metadata": {},
   "outputs": [
    {
     "data": {
      "text/plain": [
       "23"
      ]
     },
     "execution_count": 18,
     "metadata": {},
     "output_type": "execute_result"
    }
   ],
   "source": [
    "nums = [-1]\n",
    "nums = [5,4,-1,7,8]\n",
    "\n",
    "maxSubArray(nums)"
   ]
  },
  {
   "cell_type": "code",
   "execution_count": null,
   "metadata": {},
   "outputs": [],
   "source": []
  },
  {
   "cell_type": "markdown",
   "metadata": {},
   "source": [
    "<a name = '10'></a>\n",
    "\n",
    "## 10. Climbing Stairs\n",
    "\n",
    "[Back to Top](#top)\n"
   ]
  },
  {
   "cell_type": "markdown",
   "metadata": {},
   "source": [
    "You are climbing a staircase. It takes n steps to reach the top.\n",
    "\n",
    "Each time you can either climb 1 or 2 steps. In how many distinct ways can you climb to the top?"
   ]
  },
  {
   "cell_type": "code",
   "execution_count": 19,
   "metadata": {},
   "outputs": [],
   "source": [
    "def climbStairs(n):\n",
    "    \n",
    "    dy_array = [0]*n\n",
    "    i=0\n",
    "    \n",
    "    dy_array[0] = 1\n",
    "    \n",
    "    if n >= 2:\n",
    "        dy_array[1] = 2\n",
    "        \n",
    "    for i in range(2, n):\n",
    "        dy_array[i] = dy_array[i-2] + dy_array[i-1]\n",
    "        \n",
    "    return dy_array[n-1]"
   ]
  },
  {
   "cell_type": "code",
   "execution_count": 20,
   "metadata": {},
   "outputs": [
    {
     "data": {
      "text/plain": [
       "3"
      ]
     },
     "execution_count": 20,
     "metadata": {},
     "output_type": "execute_result"
    }
   ],
   "source": [
    "n = 2\n",
    "n = 3\n",
    "\n",
    "climbStairs(n)"
   ]
  },
  {
   "cell_type": "code",
   "execution_count": null,
   "metadata": {},
   "outputs": [],
   "source": []
  },
  {
   "cell_type": "code",
   "execution_count": null,
   "metadata": {},
   "outputs": [],
   "source": []
  }
 ],
 "metadata": {
  "kernelspec": {
   "display_name": "Python 3",
   "language": "python",
   "name": "python3"
  },
  "language_info": {
   "codemirror_mode": {
    "name": "ipython",
    "version": 3
   },
   "file_extension": ".py",
   "mimetype": "text/x-python",
   "name": "python",
   "nbconvert_exporter": "python",
   "pygments_lexer": "ipython3",
   "version": "3.7.9"
  }
 },
 "nbformat": 4,
 "nbformat_minor": 4
}
